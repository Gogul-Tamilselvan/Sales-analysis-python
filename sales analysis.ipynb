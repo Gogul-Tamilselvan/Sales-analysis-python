{
 "cells": [
  {
   "cell_type": "code",
   "execution_count": 3,
   "id": "aa2b4d3f",
   "metadata": {},
   "outputs": [],
   "source": [
    "#libararies\n",
    "import pandas as pd\n",
    "import numpy as np\n",
    "import matplotlib.pyplot as plt\n",
    "import seaborn as sns"
   ]
  },
  {
   "cell_type": "code",
   "execution_count": 4,
   "id": "78490b97",
   "metadata": {},
   "outputs": [
    {
     "name": "stderr",
     "output_type": "stream",
     "text": [
      "C:\\Users\\Gogul\\AppData\\Local\\Temp\\ipykernel_7204\\4154866266.py:1: DtypeWarning: Columns (0) have mixed types. Specify dtype option on import or set low_memory=False.\n",
      "  df=pd.read_csv('salesdata.csv')\n"
     ]
    }
   ],
   "source": [
    "df=pd.read_csv('salesdata.csv')"
   ]
  },
  {
   "cell_type": "code",
   "execution_count": 5,
   "id": "ddccc468",
   "metadata": {},
   "outputs": [
    {
     "data": {
      "text/html": [
       "<div>\n",
       "<style scoped>\n",
       "    .dataframe tbody tr th:only-of-type {\n",
       "        vertical-align: middle;\n",
       "    }\n",
       "\n",
       "    .dataframe tbody tr th {\n",
       "        vertical-align: top;\n",
       "    }\n",
       "\n",
       "    .dataframe thead th {\n",
       "        text-align: right;\n",
       "    }\n",
       "</style>\n",
       "<table border=\"1\" class=\"dataframe\">\n",
       "  <thead>\n",
       "    <tr style=\"text-align: right;\">\n",
       "      <th></th>\n",
       "      <th>order_id</th>\n",
       "      <th>order_date</th>\n",
       "      <th>status</th>\n",
       "      <th>item_id</th>\n",
       "      <th>sku</th>\n",
       "      <th>qty_ordered</th>\n",
       "      <th>price</th>\n",
       "      <th>value</th>\n",
       "      <th>discount_amount</th>\n",
       "      <th>total</th>\n",
       "      <th>...</th>\n",
       "      <th>SSN</th>\n",
       "      <th>Phone No.</th>\n",
       "      <th>Place Name</th>\n",
       "      <th>County</th>\n",
       "      <th>City</th>\n",
       "      <th>State</th>\n",
       "      <th>Zip</th>\n",
       "      <th>Region</th>\n",
       "      <th>User Name</th>\n",
       "      <th>Discount_Percent</th>\n",
       "    </tr>\n",
       "  </thead>\n",
       "  <tbody>\n",
       "    <tr>\n",
       "      <th>0</th>\n",
       "      <td>100354678</td>\n",
       "      <td>2020-10-01</td>\n",
       "      <td>received</td>\n",
       "      <td>574772.0</td>\n",
       "      <td>oasis_Oasis-064-36</td>\n",
       "      <td>21.0</td>\n",
       "      <td>89.9</td>\n",
       "      <td>1798.0</td>\n",
       "      <td>0.0</td>\n",
       "      <td>1798.0</td>\n",
       "      <td>...</td>\n",
       "      <td>627-31-5251</td>\n",
       "      <td>405-959-1129</td>\n",
       "      <td>Vinson</td>\n",
       "      <td>Harmon</td>\n",
       "      <td>Vinson</td>\n",
       "      <td>OK</td>\n",
       "      <td>73571</td>\n",
       "      <td>South</td>\n",
       "      <td>jwtitus</td>\n",
       "      <td>0.0</td>\n",
       "    </tr>\n",
       "    <tr>\n",
       "      <th>1</th>\n",
       "      <td>100354678</td>\n",
       "      <td>2020-10-01</td>\n",
       "      <td>received</td>\n",
       "      <td>574774.0</td>\n",
       "      <td>Fantastic_FT-48</td>\n",
       "      <td>11.0</td>\n",
       "      <td>19.0</td>\n",
       "      <td>190.0</td>\n",
       "      <td>0.0</td>\n",
       "      <td>190.0</td>\n",
       "      <td>...</td>\n",
       "      <td>627-31-5251</td>\n",
       "      <td>405-959-1129</td>\n",
       "      <td>Vinson</td>\n",
       "      <td>Harmon</td>\n",
       "      <td>Vinson</td>\n",
       "      <td>OK</td>\n",
       "      <td>73571</td>\n",
       "      <td>South</td>\n",
       "      <td>jwtitus</td>\n",
       "      <td>0.0</td>\n",
       "    </tr>\n",
       "    <tr>\n",
       "      <th>2</th>\n",
       "      <td>100354680</td>\n",
       "      <td>2020-10-01</td>\n",
       "      <td>complete</td>\n",
       "      <td>574777.0</td>\n",
       "      <td>mdeal_DMC-610-8</td>\n",
       "      <td>9.0</td>\n",
       "      <td>149.9</td>\n",
       "      <td>1199.2</td>\n",
       "      <td>0.0</td>\n",
       "      <td>1199.2</td>\n",
       "      <td>...</td>\n",
       "      <td>627-31-5251</td>\n",
       "      <td>405-959-1129</td>\n",
       "      <td>Vinson</td>\n",
       "      <td>Harmon</td>\n",
       "      <td>Vinson</td>\n",
       "      <td>OK</td>\n",
       "      <td>73571</td>\n",
       "      <td>South</td>\n",
       "      <td>jwtitus</td>\n",
       "      <td>0.0</td>\n",
       "    </tr>\n",
       "    <tr>\n",
       "      <th>3</th>\n",
       "      <td>100354680</td>\n",
       "      <td>2020-10-01</td>\n",
       "      <td>complete</td>\n",
       "      <td>574779.0</td>\n",
       "      <td>oasis_Oasis-061-36</td>\n",
       "      <td>9.0</td>\n",
       "      <td>79.9</td>\n",
       "      <td>639.2</td>\n",
       "      <td>0.0</td>\n",
       "      <td>639.2</td>\n",
       "      <td>...</td>\n",
       "      <td>627-31-5251</td>\n",
       "      <td>405-959-1129</td>\n",
       "      <td>Vinson</td>\n",
       "      <td>Harmon</td>\n",
       "      <td>Vinson</td>\n",
       "      <td>OK</td>\n",
       "      <td>73571</td>\n",
       "      <td>South</td>\n",
       "      <td>jwtitus</td>\n",
       "      <td>0.0</td>\n",
       "    </tr>\n",
       "    <tr>\n",
       "      <th>4</th>\n",
       "      <td>100367357</td>\n",
       "      <td>2020-11-13</td>\n",
       "      <td>received</td>\n",
       "      <td>595185.0</td>\n",
       "      <td>MEFNAR59C38B6CA08CD</td>\n",
       "      <td>2.0</td>\n",
       "      <td>99.9</td>\n",
       "      <td>99.9</td>\n",
       "      <td>0.0</td>\n",
       "      <td>99.9</td>\n",
       "      <td>...</td>\n",
       "      <td>627-31-5251</td>\n",
       "      <td>405-959-1129</td>\n",
       "      <td>Vinson</td>\n",
       "      <td>Harmon</td>\n",
       "      <td>Vinson</td>\n",
       "      <td>OK</td>\n",
       "      <td>73571</td>\n",
       "      <td>South</td>\n",
       "      <td>jwtitus</td>\n",
       "      <td>0.0</td>\n",
       "    </tr>\n",
       "  </tbody>\n",
       "</table>\n",
       "<p>5 rows × 36 columns</p>\n",
       "</div>"
      ],
      "text/plain": [
       "    order_id  order_date    status   item_id                  sku  \\\n",
       "0  100354678  2020-10-01  received  574772.0   oasis_Oasis-064-36   \n",
       "1  100354678  2020-10-01  received  574774.0      Fantastic_FT-48   \n",
       "2  100354680  2020-10-01  complete  574777.0      mdeal_DMC-610-8   \n",
       "3  100354680  2020-10-01  complete  574779.0   oasis_Oasis-061-36   \n",
       "4  100367357  2020-11-13  received  595185.0  MEFNAR59C38B6CA08CD   \n",
       "\n",
       "   qty_ordered  price   value  discount_amount   total  ...          SSN  \\\n",
       "0         21.0   89.9  1798.0              0.0  1798.0  ...  627-31-5251   \n",
       "1         11.0   19.0   190.0              0.0   190.0  ...  627-31-5251   \n",
       "2          9.0  149.9  1199.2              0.0  1199.2  ...  627-31-5251   \n",
       "3          9.0   79.9   639.2              0.0   639.2  ...  627-31-5251   \n",
       "4          2.0   99.9    99.9              0.0    99.9  ...  627-31-5251   \n",
       "\n",
       "     Phone No.  Place Name  County    City State    Zip Region User Name  \\\n",
       "0  405-959-1129     Vinson  Harmon  Vinson    OK  73571  South   jwtitus   \n",
       "1  405-959-1129     Vinson  Harmon  Vinson    OK  73571  South   jwtitus   \n",
       "2  405-959-1129     Vinson  Harmon  Vinson    OK  73571  South   jwtitus   \n",
       "3  405-959-1129     Vinson  Harmon  Vinson    OK  73571  South   jwtitus   \n",
       "4  405-959-1129     Vinson  Harmon  Vinson    OK  73571  South   jwtitus   \n",
       "\n",
       "  Discount_Percent  \n",
       "0              0.0  \n",
       "1              0.0  \n",
       "2              0.0  \n",
       "3              0.0  \n",
       "4              0.0  \n",
       "\n",
       "[5 rows x 36 columns]"
      ]
     },
     "execution_count": 5,
     "metadata": {},
     "output_type": "execute_result"
    }
   ],
   "source": [
    "df.head()"
   ]
  },
  {
   "cell_type": "code",
   "execution_count": 6,
   "id": "22d64acf",
   "metadata": {},
   "outputs": [
    {
     "data": {
      "text/plain": [
       "Index(['order_id', 'order_date', 'status', 'item_id', 'sku', 'qty_ordered',\n",
       "       'price', 'value', 'discount_amount', 'total', 'category',\n",
       "       'payment_method', 'bi_st', 'cust_id', 'year', 'month', 'ref_num',\n",
       "       'Name Prefix', 'First Name', 'Middle Initial', 'Last Name', 'Gender',\n",
       "       'age', 'full_name', 'E Mail', 'Customer Since', 'SSN', 'Phone No. ',\n",
       "       'Place Name', 'County', 'City', 'State', 'Zip', 'Region', 'User Name',\n",
       "       'Discount_Percent'],\n",
       "      dtype='object')"
      ]
     },
     "execution_count": 6,
     "metadata": {},
     "output_type": "execute_result"
    }
   ],
   "source": [
    "df.columns"
   ]
  },
  {
   "cell_type": "code",
   "execution_count": 7,
   "id": "932b8fa3",
   "metadata": {},
   "outputs": [
    {
     "data": {
      "text/plain": [
       "(286392, 36)"
      ]
     },
     "execution_count": 7,
     "metadata": {},
     "output_type": "execute_result"
    }
   ],
   "source": [
    "df.shape"
   ]
  },
  {
   "cell_type": "code",
   "execution_count": 8,
   "id": "b1f91e4f",
   "metadata": {},
   "outputs": [
    {
     "name": "stdout",
     "output_type": "stream",
     "text": [
      "<class 'pandas.core.frame.DataFrame'>\n",
      "RangeIndex: 286392 entries, 0 to 286391\n",
      "Data columns (total 36 columns):\n",
      " #   Column            Non-Null Count   Dtype  \n",
      "---  ------            --------------   -----  \n",
      " 0   order_id          286392 non-null  object \n",
      " 1   order_date        286392 non-null  object \n",
      " 2   status            286392 non-null  object \n",
      " 3   item_id           286392 non-null  float64\n",
      " 4   sku               286392 non-null  object \n",
      " 5   qty_ordered       286392 non-null  float64\n",
      " 6   price             286392 non-null  float64\n",
      " 7   value             286392 non-null  float64\n",
      " 8   discount_amount   286392 non-null  float64\n",
      " 9   total             286392 non-null  float64\n",
      " 10  category          286392 non-null  object \n",
      " 11  payment_method    286392 non-null  object \n",
      " 12  bi_st             286392 non-null  object \n",
      " 13  cust_id           286392 non-null  float64\n",
      " 14  year              286392 non-null  int64  \n",
      " 15  month             286392 non-null  object \n",
      " 16  ref_num           286392 non-null  int64  \n",
      " 17  Name Prefix       286392 non-null  object \n",
      " 18  First Name        286392 non-null  object \n",
      " 19  Middle Initial    286392 non-null  object \n",
      " 20  Last Name         286392 non-null  object \n",
      " 21  Gender            286392 non-null  object \n",
      " 22  age               286392 non-null  float64\n",
      " 23  full_name         286392 non-null  object \n",
      " 24  E Mail            286392 non-null  object \n",
      " 25  Customer Since    286392 non-null  object \n",
      " 26  SSN               286392 non-null  object \n",
      " 27  Phone No.         286392 non-null  object \n",
      " 28  Place Name        286392 non-null  object \n",
      " 29  County            286392 non-null  object \n",
      " 30  City              286392 non-null  object \n",
      " 31  State             286392 non-null  object \n",
      " 32  Zip               286392 non-null  int64  \n",
      " 33  Region            286392 non-null  object \n",
      " 34  User Name         286392 non-null  object \n",
      " 35  Discount_Percent  286392 non-null  float64\n",
      "dtypes: float64(9), int64(3), object(24)\n",
      "memory usage: 78.7+ MB\n"
     ]
    }
   ],
   "source": [
    "df.info()"
   ]
  },
  {
   "cell_type": "code",
   "execution_count": 9,
   "id": "3073c389",
   "metadata": {},
   "outputs": [
    {
     "data": {
      "text/plain": [
       "order_id            0\n",
       "order_date          0\n",
       "status              0\n",
       "item_id             0\n",
       "sku                 0\n",
       "qty_ordered         0\n",
       "price               0\n",
       "value               0\n",
       "discount_amount     0\n",
       "total               0\n",
       "category            0\n",
       "payment_method      0\n",
       "bi_st               0\n",
       "cust_id             0\n",
       "year                0\n",
       "month               0\n",
       "ref_num             0\n",
       "Name Prefix         0\n",
       "First Name          0\n",
       "Middle Initial      0\n",
       "Last Name           0\n",
       "Gender              0\n",
       "age                 0\n",
       "full_name           0\n",
       "E Mail              0\n",
       "Customer Since      0\n",
       "SSN                 0\n",
       "Phone No.           0\n",
       "Place Name          0\n",
       "County              0\n",
       "City                0\n",
       "State               0\n",
       "Zip                 0\n",
       "Region              0\n",
       "User Name           0\n",
       "Discount_Percent    0\n",
       "dtype: int64"
      ]
     },
     "execution_count": 9,
     "metadata": {},
     "output_type": "execute_result"
    }
   ],
   "source": [
    "#it has no null values\n",
    "df.isnull().sum()"
   ]
  },
  {
   "cell_type": "code",
   "execution_count": 10,
   "id": "236f9640",
   "metadata": {},
   "outputs": [
    {
     "data": {
      "text/html": [
       "<div>\n",
       "<style scoped>\n",
       "    .dataframe tbody tr th:only-of-type {\n",
       "        vertical-align: middle;\n",
       "    }\n",
       "\n",
       "    .dataframe tbody tr th {\n",
       "        vertical-align: top;\n",
       "    }\n",
       "\n",
       "    .dataframe thead th {\n",
       "        text-align: right;\n",
       "    }\n",
       "</style>\n",
       "<table border=\"1\" class=\"dataframe\">\n",
       "  <thead>\n",
       "    <tr style=\"text-align: right;\">\n",
       "      <th></th>\n",
       "      <th>item_id</th>\n",
       "      <th>qty_ordered</th>\n",
       "      <th>price</th>\n",
       "      <th>value</th>\n",
       "      <th>discount_amount</th>\n",
       "      <th>total</th>\n",
       "      <th>cust_id</th>\n",
       "      <th>year</th>\n",
       "      <th>ref_num</th>\n",
       "      <th>age</th>\n",
       "      <th>Zip</th>\n",
       "      <th>Discount_Percent</th>\n",
       "    </tr>\n",
       "  </thead>\n",
       "  <tbody>\n",
       "    <tr>\n",
       "      <th>count</th>\n",
       "      <td>286392.000000</td>\n",
       "      <td>286392.000000</td>\n",
       "      <td>286392.000000</td>\n",
       "      <td>286392.000000</td>\n",
       "      <td>286392.000000</td>\n",
       "      <td>286392.000000</td>\n",
       "      <td>286392.000000</td>\n",
       "      <td>286392.000000</td>\n",
       "      <td>286392.000000</td>\n",
       "      <td>286392.000000</td>\n",
       "      <td>286392.000000</td>\n",
       "      <td>286392.000000</td>\n",
       "    </tr>\n",
       "    <tr>\n",
       "      <th>mean</th>\n",
       "      <td>741664.902131</td>\n",
       "      <td>3.011296</td>\n",
       "      <td>851.385253</td>\n",
       "      <td>885.879934</td>\n",
       "      <td>70.039427</td>\n",
       "      <td>815.840507</td>\n",
       "      <td>70048.019054</td>\n",
       "      <td>2020.618778</td>\n",
       "      <td>560853.663395</td>\n",
       "      <td>46.489033</td>\n",
       "      <td>49723.160015</td>\n",
       "      <td>6.069079</td>\n",
       "    </tr>\n",
       "    <tr>\n",
       "      <th>std</th>\n",
       "      <td>95746.031827</td>\n",
       "      <td>4.573837</td>\n",
       "      <td>1741.750751</td>\n",
       "      <td>2073.252179</td>\n",
       "      <td>256.880870</td>\n",
       "      <td>1983.580302</td>\n",
       "      <td>30243.856395</td>\n",
       "      <td>0.485688</td>\n",
       "      <td>255828.418398</td>\n",
       "      <td>16.673288</td>\n",
       "      <td>27597.198873</td>\n",
       "      <td>10.100100</td>\n",
       "    </tr>\n",
       "    <tr>\n",
       "      <th>min</th>\n",
       "      <td>574769.000000</td>\n",
       "      <td>1.000000</td>\n",
       "      <td>0.000000</td>\n",
       "      <td>0.000000</td>\n",
       "      <td>0.000000</td>\n",
       "      <td>0.000000</td>\n",
       "      <td>4.000000</td>\n",
       "      <td>2020.000000</td>\n",
       "      <td>111127.000000</td>\n",
       "      <td>18.000000</td>\n",
       "      <td>210.000000</td>\n",
       "      <td>0.000000</td>\n",
       "    </tr>\n",
       "    <tr>\n",
       "      <th>25%</th>\n",
       "      <td>659684.500000</td>\n",
       "      <td>2.000000</td>\n",
       "      <td>49.900000</td>\n",
       "      <td>49.900000</td>\n",
       "      <td>0.000000</td>\n",
       "      <td>49.900000</td>\n",
       "      <td>56519.000000</td>\n",
       "      <td>2020.000000</td>\n",
       "      <td>341265.000000</td>\n",
       "      <td>32.000000</td>\n",
       "      <td>26571.750000</td>\n",
       "      <td>0.000000</td>\n",
       "    </tr>\n",
       "    <tr>\n",
       "      <th>50%</th>\n",
       "      <td>742309.000000</td>\n",
       "      <td>2.000000</td>\n",
       "      <td>119.000000</td>\n",
       "      <td>158.970000</td>\n",
       "      <td>0.000000</td>\n",
       "      <td>149.800000</td>\n",
       "      <td>74225.500000</td>\n",
       "      <td>2021.000000</td>\n",
       "      <td>564857.000000</td>\n",
       "      <td>47.000000</td>\n",
       "      <td>49316.000000</td>\n",
       "      <td>0.000000</td>\n",
       "    </tr>\n",
       "    <tr>\n",
       "      <th>75%</th>\n",
       "      <td>826124.250000</td>\n",
       "      <td>3.000000</td>\n",
       "      <td>950.000000</td>\n",
       "      <td>910.000000</td>\n",
       "      <td>18.383050</td>\n",
       "      <td>800.000000</td>\n",
       "      <td>92357.000000</td>\n",
       "      <td>2021.000000</td>\n",
       "      <td>781086.000000</td>\n",
       "      <td>61.000000</td>\n",
       "      <td>72645.000000</td>\n",
       "      <td>11.000000</td>\n",
       "    </tr>\n",
       "    <tr>\n",
       "      <th>max</th>\n",
       "      <td>905208.000000</td>\n",
       "      <td>501.000000</td>\n",
       "      <td>101262.590000</td>\n",
       "      <td>101262.590000</td>\n",
       "      <td>30213.150000</td>\n",
       "      <td>101262.590000</td>\n",
       "      <td>115326.000000</td>\n",
       "      <td>2021.000000</td>\n",
       "      <td>999981.000000</td>\n",
       "      <td>75.000000</td>\n",
       "      <td>99950.000000</td>\n",
       "      <td>75.000000</td>\n",
       "    </tr>\n",
       "  </tbody>\n",
       "</table>\n",
       "</div>"
      ],
      "text/plain": [
       "             item_id    qty_ordered          price          value  \\\n",
       "count  286392.000000  286392.000000  286392.000000  286392.000000   \n",
       "mean   741664.902131       3.011296     851.385253     885.879934   \n",
       "std     95746.031827       4.573837    1741.750751    2073.252179   \n",
       "min    574769.000000       1.000000       0.000000       0.000000   \n",
       "25%    659684.500000       2.000000      49.900000      49.900000   \n",
       "50%    742309.000000       2.000000     119.000000     158.970000   \n",
       "75%    826124.250000       3.000000     950.000000     910.000000   \n",
       "max    905208.000000     501.000000  101262.590000  101262.590000   \n",
       "\n",
       "       discount_amount          total        cust_id           year  \\\n",
       "count    286392.000000  286392.000000  286392.000000  286392.000000   \n",
       "mean         70.039427     815.840507   70048.019054    2020.618778   \n",
       "std         256.880870    1983.580302   30243.856395       0.485688   \n",
       "min           0.000000       0.000000       4.000000    2020.000000   \n",
       "25%           0.000000      49.900000   56519.000000    2020.000000   \n",
       "50%           0.000000     149.800000   74225.500000    2021.000000   \n",
       "75%          18.383050     800.000000   92357.000000    2021.000000   \n",
       "max       30213.150000  101262.590000  115326.000000    2021.000000   \n",
       "\n",
       "             ref_num            age            Zip  Discount_Percent  \n",
       "count  286392.000000  286392.000000  286392.000000     286392.000000  \n",
       "mean   560853.663395      46.489033   49723.160015          6.069079  \n",
       "std    255828.418398      16.673288   27597.198873         10.100100  \n",
       "min    111127.000000      18.000000     210.000000          0.000000  \n",
       "25%    341265.000000      32.000000   26571.750000          0.000000  \n",
       "50%    564857.000000      47.000000   49316.000000          0.000000  \n",
       "75%    781086.000000      61.000000   72645.000000         11.000000  \n",
       "max    999981.000000      75.000000   99950.000000         75.000000  "
      ]
     },
     "execution_count": 10,
     "metadata": {},
     "output_type": "execute_result"
    }
   ],
   "source": [
    "df.describe()"
   ]
  },
  {
   "cell_type": "markdown",
   "id": "7314e709",
   "metadata": {},
   "source": [
    "# Exploratory data analysis "
   ]
  },
  {
   "cell_type": "markdown",
   "id": "b30854c9",
   "metadata": {},
   "source": [
    "what is the overall sales trend?"
   ]
  },
  {
   "cell_type": "code",
   "execution_count": 11,
   "id": "f7afd4e9",
   "metadata": {},
   "outputs": [],
   "source": [
    "df['order_date']=df['order_date'].astype('datetime64')"
   ]
  },
  {
   "cell_type": "code",
   "execution_count": 12,
   "id": "43a1441b",
   "metadata": {},
   "outputs": [
    {
     "data": {
      "text/plain": [
       "Timestamp('2020-10-01 00:00:00')"
      ]
     },
     "execution_count": 12,
     "metadata": {},
     "output_type": "execute_result"
    }
   ],
   "source": [
    "df['order_date'].min()\n"
   ]
  },
  {
   "cell_type": "code",
   "execution_count": 13,
   "id": "68274dfe",
   "metadata": {},
   "outputs": [
    {
     "data": {
      "text/plain": [
       "Timestamp('2021-09-30 00:00:00')"
      ]
     },
     "execution_count": 13,
     "metadata": {},
     "output_type": "execute_result"
    }
   ],
   "source": [
    "df['order_date'].max()"
   ]
  },
  {
   "cell_type": "code",
   "execution_count": 14,
   "id": "2756c7aa",
   "metadata": {},
   "outputs": [],
   "source": [
    "df['month_year']=df['order_date'].apply(lambda x:x.strftime('%Y-%m'))"
   ]
  },
  {
   "cell_type": "code",
   "execution_count": 15,
   "id": "8bcec179",
   "metadata": {},
   "outputs": [
    {
     "data": {
      "text/plain": [
       "0    2020-10\n",
       "1    2020-10\n",
       "2    2020-10\n",
       "3    2020-10\n",
       "4    2020-11\n",
       "Name: month_year, dtype: object"
      ]
     },
     "execution_count": 15,
     "metadata": {},
     "output_type": "execute_result"
    }
   ],
   "source": [
    "df['month_year'].head()"
   ]
  },
  {
   "cell_type": "code",
   "execution_count": 16,
   "id": "abefce79",
   "metadata": {},
   "outputs": [
    {
     "name": "stderr",
     "output_type": "stream",
     "text": [
      "C:\\Users\\Gogul\\AppData\\Local\\Temp\\ipykernel_7204\\1109963010.py:1: FutureWarning: The default value of numeric_only in DataFrameGroupBy.sum is deprecated. In a future version, numeric_only will default to False. Either specify numeric_only or select only columns which should be valid for the function.\n",
      "  trend = df.groupby(['month_year']).sum()['qty_ordered'].reset_index()\n"
     ]
    }
   ],
   "source": [
    "trend = df.groupby(['month_year']).sum()['qty_ordered'].reset_index()"
   ]
  },
  {
   "cell_type": "code",
   "execution_count": 17,
   "id": "d7078d50",
   "metadata": {},
   "outputs": [
    {
     "data": {
      "text/html": [
       "<div>\n",
       "<style scoped>\n",
       "    .dataframe tbody tr th:only-of-type {\n",
       "        vertical-align: middle;\n",
       "    }\n",
       "\n",
       "    .dataframe tbody tr th {\n",
       "        vertical-align: top;\n",
       "    }\n",
       "\n",
       "    .dataframe thead th {\n",
       "        text-align: right;\n",
       "    }\n",
       "</style>\n",
       "<table border=\"1\" class=\"dataframe\">\n",
       "  <thead>\n",
       "    <tr style=\"text-align: right;\">\n",
       "      <th></th>\n",
       "      <th>month_year</th>\n",
       "      <th>qty_ordered</th>\n",
       "    </tr>\n",
       "  </thead>\n",
       "  <tbody>\n",
       "    <tr>\n",
       "      <th>0</th>\n",
       "      <td>2020-10</td>\n",
       "      <td>22654.0</td>\n",
       "    </tr>\n",
       "    <tr>\n",
       "      <th>1</th>\n",
       "      <td>2020-11</td>\n",
       "      <td>44949.0</td>\n",
       "    </tr>\n",
       "    <tr>\n",
       "      <th>2</th>\n",
       "      <td>2020-12</td>\n",
       "      <td>185048.0</td>\n",
       "    </tr>\n",
       "    <tr>\n",
       "      <th>3</th>\n",
       "      <td>2021-01</td>\n",
       "      <td>48390.0</td>\n",
       "    </tr>\n",
       "    <tr>\n",
       "      <th>4</th>\n",
       "      <td>2021-02</td>\n",
       "      <td>32824.0</td>\n",
       "    </tr>\n",
       "    <tr>\n",
       "      <th>5</th>\n",
       "      <td>2021-03</td>\n",
       "      <td>101741.0</td>\n",
       "    </tr>\n",
       "    <tr>\n",
       "      <th>6</th>\n",
       "      <td>2021-04</td>\n",
       "      <td>151635.0</td>\n",
       "    </tr>\n",
       "    <tr>\n",
       "      <th>7</th>\n",
       "      <td>2021-05</td>\n",
       "      <td>48346.0</td>\n",
       "    </tr>\n",
       "    <tr>\n",
       "      <th>8</th>\n",
       "      <td>2021-06</td>\n",
       "      <td>92452.0</td>\n",
       "    </tr>\n",
       "    <tr>\n",
       "      <th>9</th>\n",
       "      <td>2021-07</td>\n",
       "      <td>58512.0</td>\n",
       "    </tr>\n",
       "    <tr>\n",
       "      <th>10</th>\n",
       "      <td>2021-08</td>\n",
       "      <td>31573.0</td>\n",
       "    </tr>\n",
       "    <tr>\n",
       "      <th>11</th>\n",
       "      <td>2021-09</td>\n",
       "      <td>44287.0</td>\n",
       "    </tr>\n",
       "  </tbody>\n",
       "</table>\n",
       "</div>"
      ],
      "text/plain": [
       "   month_year  qty_ordered\n",
       "0     2020-10      22654.0\n",
       "1     2020-11      44949.0\n",
       "2     2020-12     185048.0\n",
       "3     2021-01      48390.0\n",
       "4     2021-02      32824.0\n",
       "5     2021-03     101741.0\n",
       "6     2021-04     151635.0\n",
       "7     2021-05      48346.0\n",
       "8     2021-06      92452.0\n",
       "9     2021-07      58512.0\n",
       "10    2021-08      31573.0\n",
       "11    2021-09      44287.0"
      ]
     },
     "execution_count": 17,
     "metadata": {},
     "output_type": "execute_result"
    }
   ],
   "source": [
    "trend"
   ]
  },
  {
   "cell_type": "code",
   "execution_count": 18,
   "id": "cee7f785",
   "metadata": {},
   "outputs": [
    {
     "data": {
      "text/plain": [
       "Text(0.5, 1.0, 'Overall Sales Trend')"
      ]
     },
     "execution_count": 18,
     "metadata": {},
     "output_type": "execute_result"
    },
    {
     "data": {
      "image/png": "[encoded data removed]",
      "text/plain": [
       "<Figure size 1500x600 with 1 Axes>"
      ]
     },
     "metadata": {},
     "output_type": "display_data"
    }
   ],
   "source": [
    "plt.figure(figsize=(15,6))\n",
    "plt.stem(trend['month_year'],trend['qty_ordered'],'--')\n",
    "plt.title('Overall Sales Trend')"
   ]
  },
  {
   "cell_type": "markdown",
   "id": "9df4c974",
   "metadata": {},
   "source": [
    "Which are top 10  basis category on sales?"
   ]
  },
  {
   "cell_type": "code",
   "execution_count": 19,
   "id": "ce3f385e",
   "metadata": {},
   "outputs": [
    {
     "name": "stderr",
     "output_type": "stream",
     "text": [
      "C:\\Users\\Gogul\\AppData\\Local\\Temp\\ipykernel_7204\\1794830590.py:1: FutureWarning: The default value of numeric_only in DataFrameGroupBy.sum is deprecated. In a future version, numeric_only will default to False. Either specify numeric_only or select only columns which should be valid for the function.\n",
      "  top_10 = df.groupby(['category']).sum()['qty_ordered'].reset_index().sort_values(ascending=False,by='qty_ordered')\n"
     ]
    }
   ],
   "source": [
    "top_10 = df.groupby(['category']).sum()['qty_ordered'].reset_index().sort_values(ascending=False,by='qty_ordered')"
   ]
  },
  {
   "cell_type": "code",
   "execution_count": 20,
   "id": "8274fb46",
   "metadata": {},
   "outputs": [
    {
     "data": {
      "text/html": [
       "<div>\n",
       "<style scoped>\n",
       "    .dataframe tbody tr th:only-of-type {\n",
       "        vertical-align: middle;\n",
       "    }\n",
       "\n",
       "    .dataframe tbody tr th {\n",
       "        vertical-align: top;\n",
       "    }\n",
       "\n",
       "    .dataframe thead th {\n",
       "        text-align: right;\n",
       "    }\n",
       "</style>\n",
       "<table border=\"1\" class=\"dataframe\">\n",
       "  <thead>\n",
       "    <tr style=\"text-align: right;\">\n",
       "      <th></th>\n",
       "      <th>category</th>\n",
       "      <th>qty_ordered</th>\n",
       "    </tr>\n",
       "  </thead>\n",
       "  <tbody>\n",
       "    <tr>\n",
       "      <th>9</th>\n",
       "      <td>Mobiles &amp; Tablets</td>\n",
       "      <td>135041.0</td>\n",
       "    </tr>\n",
       "    <tr>\n",
       "      <th>10</th>\n",
       "      <td>Others</td>\n",
       "      <td>109266.0</td>\n",
       "    </tr>\n",
       "    <tr>\n",
       "      <th>8</th>\n",
       "      <td>Men's Fashion</td>\n",
       "      <td>102374.0</td>\n",
       "    </tr>\n",
       "    <tr>\n",
       "      <th>13</th>\n",
       "      <td>Superstore</td>\n",
       "      <td>101964.0</td>\n",
       "    </tr>\n",
       "    <tr>\n",
       "      <th>0</th>\n",
       "      <td>Appliances</td>\n",
       "      <td>82435.0</td>\n",
       "    </tr>\n",
       "    <tr>\n",
       "      <th>14</th>\n",
       "      <td>Women's Fashion</td>\n",
       "      <td>78944.0</td>\n",
       "    </tr>\n",
       "    <tr>\n",
       "      <th>1</th>\n",
       "      <td>Beauty &amp; Grooming</td>\n",
       "      <td>71122.0</td>\n",
       "    </tr>\n",
       "    <tr>\n",
       "      <th>6</th>\n",
       "      <td>Home &amp; Living</td>\n",
       "      <td>41830.0</td>\n",
       "    </tr>\n",
       "    <tr>\n",
       "      <th>4</th>\n",
       "      <td>Entertainment</td>\n",
       "      <td>34788.0</td>\n",
       "    </tr>\n",
       "    <tr>\n",
       "      <th>5</th>\n",
       "      <td>Health &amp; Sports</td>\n",
       "      <td>28611.0</td>\n",
       "    </tr>\n",
       "  </tbody>\n",
       "</table>\n",
       "</div>"
      ],
      "text/plain": [
       "             category  qty_ordered\n",
       "9   Mobiles & Tablets     135041.0\n",
       "10             Others     109266.0\n",
       "8       Men's Fashion     102374.0\n",
       "13         Superstore     101964.0\n",
       "0          Appliances      82435.0\n",
       "14    Women's Fashion      78944.0\n",
       "1   Beauty & Grooming      71122.0\n",
       "6       Home & Living      41830.0\n",
       "4       Entertainment      34788.0\n",
       "5     Health & Sports      28611.0"
      ]
     },
     "execution_count": 20,
     "metadata": {},
     "output_type": "execute_result"
    }
   ],
   "source": [
    "top10 = top_10[:10]\n",
    "top10"
   ]
  },
  {
   "cell_type": "code",
   "execution_count": 21,
   "id": "bd07a0bb",
   "metadata": {},
   "outputs": [
    {
     "data": {
      "text/plain": [
       "<Axes: ylabel='category'>"
      ]
     },
     "execution_count": 21,
     "metadata": {},
     "output_type": "execute_result"
    },
    {
     "data": {
      "image/png": "[encoded data removed]",
      "text/plain": [
       "<Figure size 640x480 with 1 Axes>"
      ]
     },
     "metadata": {},
     "output_type": "display_data"
    }
   ],
   "source": [
    "top10.plot(x='category',y='qty_ordered',kind='barh',color='pink')"
   ]
  },
  {
   "cell_type": "markdown",
   "id": "1a8634f7",
   "metadata": {},
   "source": [
    "# Most preferred payment method"
   ]
  },
  {
   "cell_type": "code",
   "execution_count": 37,
   "id": "8da7b06c",
   "metadata": {},
   "outputs": [],
   "source": [
    "payment = df['payment_method'].value_counts().sort_values(ascending=False)[:10]"
   ]
  },
  {
   "cell_type": "code",
   "execution_count": 46,
   "id": "23262488",
   "metadata": {},
   "outputs": [
    {
     "data": {
      "text/plain": [
       "Text(0, 0.5, 'Payment method')"
      ]
     },
     "execution_count": 46,
     "metadata": {},
     "output_type": "execute_result"
    },
    {
     "data": {
      "image/png": "[encoded data removed]",
      "text/plain": [
       "<Figure size 640x480 with 1 Axes>"
      ]
     },
     "metadata": {},
     "output_type": "display_data"
    }
   ],
   "source": [
    "payment.plot(kind='barh',color='green')\n",
    "plt.title('Most preferred payment method')\n",
    "plt.ylabel('Payment method')"
   ]
  }
 ],
 "metadata": {
  "kernelspec": {
   "display_name": "Python 3 (ipykernel)",
   "language": "python",
   "name": "python3"
  },
  "language_info": {
   "codemirror_mode": {
    "name": "ipython",
    "version": 3
   },
   "file_extension": ".py",
   "mimetype": "text/x-python",
   "name": "python",
   "nbconvert_exporter": "python",
   "pygments_lexer": "ipython3",
   "version": "3.10.9"
  }
 },
 "nbformat": 4,
 "nbformat_minor": 5
}
